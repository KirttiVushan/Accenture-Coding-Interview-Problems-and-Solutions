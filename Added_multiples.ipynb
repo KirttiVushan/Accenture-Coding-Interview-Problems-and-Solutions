{
 "cells": [
  {
   "cell_type": "markdown",
   "metadata": {},
   "source": [
    "Instructions: You are required to write the code. You can click on compile and run anytime to check compilation/execution status. The code should be logically/syntactically correct.\n",
    "\n",
    "Problem: Write a program in C to display the table of a number and print the sum of all the multiples in it.\n",
    "\n",
    "Test Cases:\n",
    "\n",
    "Test Case 1:\n",
    "Input:\n",
    "5\n",
    "Expected Result Value:\n",
    "5, 10, 15, 20, 25, 30, 35, 40, 45, 50\n",
    "275\n",
    "\n",
    "Test Case 2:\n",
    "Input:\n",
    "12\n",
    "Expected Result Value:\n",
    "12, 24, 36, 48, 60, 72, 84, 96, 108, 120\n",
    "660"
   ]
  },
  {
   "cell_type": "code",
   "execution_count": 4,
   "metadata": {},
   "outputs": [
    {
     "name": "stdout",
     "output_type": "stream",
     "text": [
      "12\n",
      "660\n"
     ]
    }
   ],
   "source": [
    "n=int(input())\n",
    "\n",
    "added_multiples=0\n",
    "for num in range(1,11):\n",
    "    added_multiples+=num*n\n",
    "    \n",
    "print(added_multiples)"
   ]
  },
  {
   "cell_type": "code",
   "execution_count": null,
   "metadata": {},
   "outputs": [],
   "source": []
  }
 ],
 "metadata": {
  "kernelspec": {
   "display_name": "Python 3",
   "language": "python",
   "name": "python3"
  },
  "language_info": {
   "codemirror_mode": {
    "name": "ipython",
    "version": 3
   },
   "file_extension": ".py",
   "mimetype": "text/x-python",
   "name": "python",
   "nbconvert_exporter": "python",
   "pygments_lexer": "ipython3",
   "version": "3.7.4"
  }
 },
 "nbformat": 4,
 "nbformat_minor": 2
}
