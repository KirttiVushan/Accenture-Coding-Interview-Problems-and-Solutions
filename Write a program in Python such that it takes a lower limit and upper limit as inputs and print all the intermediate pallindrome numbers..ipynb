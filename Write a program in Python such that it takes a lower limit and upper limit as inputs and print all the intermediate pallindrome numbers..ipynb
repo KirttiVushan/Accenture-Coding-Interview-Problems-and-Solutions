{
 "cells": [
  {
   "cell_type": "markdown",
   "metadata": {},
   "source": [
    "Question: Write a program in Python such that it takes a lower limit and upper limit as inputs and print all the intermediate pallindrome numbers.\n",
    "\n",
    "Test Cases:\n",
    "\n",
    "TestCase 1:\n",
    "Input :\n",
    "10 , 80\n",
    "Expected Result:\n",
    "11 , 22 , 33 , 44 , 55 , 66 , 77.\n",
    "\n",
    "Test Case 2:\n",
    "Input:\n",
    "100,200\n",
    "Expected Result:\n",
    "101 , 111 , 121 , 131 , 141 , 151 , 161 , 171 , 181 , 191."
   ]
  },
  {
   "cell_type": "code",
   "execution_count": 16,
   "metadata": {},
   "outputs": [
    {
     "name": "stdout",
     "output_type": "stream",
     "text": [
      "10\n",
      "80\n",
      "11 22 33 44 55 66 77 "
     ]
    }
   ],
   "source": [
    "upper=int(input())\n",
    "lower=int(input())\n",
    "\n",
    "\n",
    "for num in range(upper,lower+1):\n",
    "    x=num\n",
    "    rev=0\n",
    "\n",
    "    while x!=0:\n",
    "        rev=rev*10 + x%10\n",
    "        x=x//10\n",
    "    \n",
    "    if num == rev:\n",
    "        print(rev, end=\" \")\n",
    "        "
   ]
  },
  {
   "cell_type": "code",
   "execution_count": 13,
   "metadata": {},
   "outputs": [
    {
     "name": "stdout",
     "output_type": "stream",
     "text": [
      "10\n",
      "80\n",
      "11 22 33 44 55 66 77 "
     ]
    }
   ],
   "source": [
    "first_number = int(input())\n",
    "second_number = int(input())\n",
    "\n",
    "for i in range(first_number, second_number+1):\n",
    "    reverse = 0\n",
    "    temp = i\n",
    "    while temp != 0:\n",
    "        remainder = temp % 10\n",
    "        reverse = (reverse * 10)+remainder\n",
    "        temp = temp // 10\n",
    "    if i == reverse:\n",
    "        print(reverse, end=\" \")"
   ]
  },
  {
   "cell_type": "code",
   "execution_count": null,
   "metadata": {},
   "outputs": [],
   "source": []
  }
 ],
 "metadata": {
  "kernelspec": {
   "display_name": "Python 3",
   "language": "python",
   "name": "python3"
  },
  "language_info": {
   "codemirror_mode": {
    "name": "ipython",
    "version": 3
   },
   "file_extension": ".py",
   "mimetype": "text/x-python",
   "name": "python",
   "nbconvert_exporter": "python",
   "pygments_lexer": "ipython3",
   "version": "3.7.4"
  }
 },
 "nbformat": 4,
 "nbformat_minor": 2
}
