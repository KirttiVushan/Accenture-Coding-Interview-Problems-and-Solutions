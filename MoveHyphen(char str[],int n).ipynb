{
 "cells": [
  {
   "cell_type": "markdown",
   "metadata": {},
   "source": [
    "# MoveHyphen(char str[],int n)\n",
    "\n",
    "The function accepts a string “str” of length ‘n’, that contains alphabets and hyphens (-). Implement the function to move all hyphens(.) in the string to the front of the given string."
   ]
  },
  {
   "cell_type": "markdown",
   "metadata": {},
   "source": [
    "Example :-\n",
    "\n",
    "Input:\n",
    "str.Move-Hyphens-to-Front\n",
    "Output:\n",
    "-MoveHyphenstoFront\n",
    "Explanation:-\n",
    "\n",
    "The string “Move-Hyphens -to-front” has 3 hyphens (.), which are moved to the front of the string, this output is “— MoveHyphen”\n",
    "\n",
    "Sample Input\n",
    "\n",
    "Str: String-Compare\n",
    "Sample Output-\n",
    "\n",
    "-StringCompare"
   ]
  },
  {
   "cell_type": "code",
   "execution_count": 16,
   "metadata": {},
   "outputs": [],
   "source": [
    "def moveHyphen(s):\n",
    "    \n",
    "    count = 0\n",
    "    final = \"\"\n",
    "    for i in s:\n",
    "        if i == '-':\n",
    "            count+=1\n",
    "            print(\"count=\",count)\n",
    "        else:\n",
    "            final+=i\n",
    "            print(\"final=\",final)\n",
    "    print(\"-\"*count,final)\n",
    "    \n",
    "            "
   ]
  },
  {
   "cell_type": "code",
   "execution_count": 17,
   "metadata": {},
   "outputs": [
    {
     "name": "stdout",
     "output_type": "stream",
     "text": [
      "final= M\n",
      "final= Mo\n",
      "final= Mov\n",
      "final= Move\n",
      "count= 1\n",
      "final= MoveH\n",
      "final= MoveHy\n",
      "final= MoveHyp\n",
      "final= MoveHyph\n",
      "final= MoveHyphe\n",
      "final= MoveHyphen\n",
      "final= MoveHyphens\n",
      "final= MoveHyphens \n",
      "count= 2\n",
      "final= MoveHyphens t\n",
      "final= MoveHyphens to\n",
      "count= 3\n",
      "final= MoveHyphens tof\n",
      "final= MoveHyphens tofr\n",
      "final= MoveHyphens tofro\n",
      "final= MoveHyphens tofron\n",
      "final= MoveHyphens tofront\n",
      "--- MoveHyphens tofront\n"
     ]
    }
   ],
   "source": [
    "moveHyphen(\"Move-Hyphens -to-front\")"
   ]
  },
  {
   "cell_type": "code",
   "execution_count": null,
   "metadata": {},
   "outputs": [],
   "source": []
  }
 ],
 "metadata": {
  "kernelspec": {
   "display_name": "Python 3",
   "language": "python",
   "name": "python3"
  },
  "language_info": {
   "codemirror_mode": {
    "name": "ipython",
    "version": 3
   },
   "file_extension": ".py",
   "mimetype": "text/x-python",
   "name": "python",
   "nbconvert_exporter": "python",
   "pygments_lexer": "ipython3",
   "version": "3.7.4"
  }
 },
 "nbformat": 4,
 "nbformat_minor": 2
}
