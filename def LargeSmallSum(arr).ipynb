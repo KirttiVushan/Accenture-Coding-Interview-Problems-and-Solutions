{
 "cells": [
  {
   "cell_type": "code",
   "execution_count": 11,
   "metadata": {},
   "outputs": [],
   "source": [
    "def LargeSmallSum(arr):\n",
    "    \n",
    "    if len(arr)<=3:\n",
    "        return 0\n",
    "    \n",
    "    \n",
    "    even_indices=[]\n",
    "    odd_indices=[]\n",
    "    \n",
    "#     for even pos in arr\n",
    "    for i in arr[::2]:\n",
    "        even_indices.append(i)\n",
    "        \n",
    "        \n",
    "     \n",
    "#     for odd pos in arr\n",
    "    for i in arr[1::2]:\n",
    "        odd_indices.append(i)\n",
    "        \n",
    "        \n",
    "    even_indices=sorted(even_indices)\n",
    "    odd_indices=sorted(odd_indices)\n",
    "    \n",
    "    return even_indices[len(even_indices)-2]+ odd_indices[len(odd_indices)-2]\n",
    "        \n",
    "    "
   ]
  },
  {
   "cell_type": "code",
   "execution_count": 12,
   "metadata": {},
   "outputs": [
    {
     "data": {
      "text/plain": [
       "7"
      ]
     },
     "execution_count": 12,
     "metadata": {},
     "output_type": "execute_result"
    }
   ],
   "source": [
    "LargeSmallSum([3, 2, 1, 7, 5, 4])"
   ]
  },
  {
   "cell_type": "code",
   "execution_count": 13,
   "metadata": {},
   "outputs": [
    {
     "data": {
      "text/plain": [
       "8"
      ]
     },
     "execution_count": 13,
     "metadata": {},
     "output_type": "execute_result"
    }
   ],
   "source": [
    "LargeSmallSum([1, 8, 0, 2, 3, 5, 6])"
   ]
  },
  {
   "cell_type": "code",
   "execution_count": null,
   "metadata": {},
   "outputs": [],
   "source": []
  }
 ],
 "metadata": {
  "kernelspec": {
   "display_name": "Python 3",
   "language": "python",
   "name": "python3"
  },
  "language_info": {
   "codemirror_mode": {
    "name": "ipython",
    "version": 3
   },
   "file_extension": ".py",
   "mimetype": "text/x-python",
   "name": "python",
   "nbconvert_exporter": "python",
   "pygments_lexer": "ipython3",
   "version": "3.7.4"
  }
 },
 "nbformat": 4,
 "nbformat_minor": 2
}
