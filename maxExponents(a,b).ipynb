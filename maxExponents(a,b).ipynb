{
 "cells": [
  {
   "cell_type": "markdown",
   "metadata": {},
   "source": [
    "You are given a function,\n",
    "\n",
    "Int MaxExponents (int a , int b);\n",
    "\n",
    "You have to find and return the number between ‘a’ and ‘b’ ( range inclusive on both ends) which has the maximum exponent of 2.\n",
    "\n",
    "The algorithm to find the number with maximum exponent of 2 between the given range is\n",
    "\n",
    "Loop between ‘a’ and ‘b’. Let the looping variable be ‘i’.\n",
    "Find the exponent (power) of 2 for each ‘i’ and store the number with maximum exponent of 2 so faqrd in a variable , let say ‘max’. Set ‘max’ to ‘i’ only if ‘i’ has more exponent of 2 than ‘max’.\n",
    "Return ‘max’.\n",
    "Assumption: a <b\n",
    "\n",
    "Note: If two or more numbers in the range have the same exponents of  2 , return the small number.\n",
    "\n",
    "Example\n",
    "\n",
    "Input:\n",
    "7\n",
    "12\n",
    "Output:\n",
    "8\n",
    "Explanation:\n",
    "\n",
    "Exponents of 2 in:\n",
    "\n",
    "7-0\n",
    "\n",
    "8-3\n",
    "\n",
    "9-0\n",
    "\n",
    "10-1\n",
    "\n",
    "11-0\n",
    "\n",
    "12-2\n",
    "\n",
    "Hence maximum exponent if two is of 8."
   ]
  },
  {
   "cell_type": "code",
   "execution_count": null,
   "metadata": {},
   "outputs": [],
   "source": []
  },
  {
   "cell_type": "code",
   "execution_count": null,
   "metadata": {},
   "outputs": [],
   "source": [
    "def exponentsof2(i):\n",
    "    count=0\n",
    "    \n",
    "    while i%2==0 and i!=0:\n",
    "        \n",
    "        count+=1\n",
    "        \n",
    "        i=i//2\n",
    "\n",
    "    return count\n",
    "\n",
    "def maxExponents(a,b):\n",
    "    temp=0\n",
    "    maximum=0\n",
    "    number=a\n",
    "    for i in range(a,b+1):\n",
    "        temp=exponentsof2(i)\n",
    "        \n",
    "        if temp>maximum:\n",
    "            maximum=temp\n",
    "            number=i\n",
    "            \n",
    "    return number"
   ]
  },
  {
   "cell_type": "code",
   "execution_count": 10,
   "metadata": {},
   "outputs": [
    {
     "data": {
      "text/plain": [
       "8"
      ]
     },
     "execution_count": 10,
     "metadata": {},
     "output_type": "execute_result"
    }
   ],
   "source": [
    "maxExponents(7,12)"
   ]
  },
  {
   "cell_type": "code",
   "execution_count": null,
   "metadata": {},
   "outputs": [],
   "source": []
  }
 ],
 "metadata": {
  "kernelspec": {
   "display_name": "Python 3",
   "language": "python",
   "name": "python3"
  },
  "language_info": {
   "codemirror_mode": {
    "name": "ipython",
    "version": 3
   },
   "file_extension": ".py",
   "mimetype": "text/x-python",
   "name": "python",
   "nbconvert_exporter": "python",
   "pygments_lexer": "ipython3",
   "version": "3.7.4"
  }
 },
 "nbformat": 4,
 "nbformat_minor": 2
}
