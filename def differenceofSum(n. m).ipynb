{
 "cells": [
  {
   "cell_type": "markdown",
   "metadata": {},
   "source": [
    "# def differenceofSum(n. m)\n",
    "\n",
    "The function accepts two integers n, m as arguments Find the sum of all numbers in range from 1 to m(both inclusive) that are not divisible by n. Return difference between sum of integers not divisible by n with sum of numbers divisible by n."
   ]
  },
  {
   "cell_type": "markdown",
   "metadata": {},
   "source": [
    "Assumption:\n",
    "\n",
    "n>0 and m>0\n",
    "Sum lies between integral range\n",
    "Example\n",
    "\n",
    "Input\n",
    "n:4\n",
    "m:20\n",
    "Output\n",
    "90\n",
    "\n",
    "Explanation\n",
    "\n",
    "Sum of numbers divisible by 4 are 4 + 8 + 12 + 16 + 20 = 60\n",
    "Sum of numbers not divisible by 4 are 1 +2 + 3 + 5 + 6 + 7 + 9 + 10 + 11 + 13 + 14 + 15 + 17 + 18 + 19 = 150\n",
    "Difference 150 – 60 = 90\n",
    "Sample Input\n",
    "n:3\n",
    "m:10\n",
    "Sample Output\n",
    "19"
   ]
  },
  {
   "cell_type": "code",
   "execution_count": null,
   "metadata": {},
   "outputs": [],
   "source": [
    "def sumOfDifference(n,m):\n",
    "    \n",
    "    divisible=0\n",
    "    not_divisible=0\n",
    "    \n",
    "    for i in range(0,m+1):\n",
    "        if i%n==0:\n",
    "            divisible+=i\n",
    "            \n",
    "        else:\n",
    "            not_divisible+=i\n",
    "            \n",
    "    return not_divisible-divisible"
   ]
  },
  {
   "cell_type": "code",
   "execution_count": 8,
   "metadata": {},
   "outputs": [
    {
     "data": {
      "text/plain": [
       "90"
      ]
     },
     "execution_count": 8,
     "metadata": {},
     "output_type": "execute_result"
    }
   ],
   "source": [
    "sumOfDifference(4,20)"
   ]
  },
  {
   "cell_type": "code",
   "execution_count": 9,
   "metadata": {},
   "outputs": [
    {
     "data": {
      "text/plain": [
       "19"
      ]
     },
     "execution_count": 9,
     "metadata": {},
     "output_type": "execute_result"
    }
   ],
   "source": [
    "sumOfDifference(3,10)"
   ]
  },
  {
   "cell_type": "code",
   "execution_count": null,
   "metadata": {},
   "outputs": [],
   "source": []
  }
 ],
 "metadata": {
  "kernelspec": {
   "display_name": "Python 3",
   "language": "python",
   "name": "python3"
  },
  "language_info": {
   "codemirror_mode": {
    "name": "ipython",
    "version": 3
   },
   "file_extension": ".py",
   "mimetype": "text/x-python",
   "name": "python",
   "nbconvert_exporter": "python",
   "pygments_lexer": "ipython3",
   "version": "3.7.4"
  }
 },
 "nbformat": 4,
 "nbformat_minor": 2
}
