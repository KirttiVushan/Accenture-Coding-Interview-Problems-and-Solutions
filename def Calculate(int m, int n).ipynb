{
 "cells": [
  {
   "cell_type": "markdown",
   "metadata": {},
   "source": [
    "Int Calculate(int m, int n);\n",
    "\n",
    "The function accepts 2 positive integer ‘m’ and ‘n’ as its arguments.You are required to calculate the sum of numbers divisible both by 3 and 5, between ‘m’ and ‘n’ both inclusive and return the same.\n",
    "Note\n",
    "0 < m <= n\n",
    "\n",
    "Example\n",
    "\n",
    "Input:\n",
    "\n",
    "m : 12\n",
    "\n",
    "n : 50\n",
    "\n",
    "Output\n",
    "\n",
    "90\n",
    "\n",
    "Explanation:\n",
    "The numbers divisible by both 3 and 5, between 12 and 50 both inclusive are {15, 30, 45} and their sum is 90.\n",
    "Sample Input\n",
    "m : 100\n",
    "n : 160\n",
    "Sample Output\n",
    "405"
   ]
  },
  {
   "cell_type": "code",
   "execution_count": 1,
   "metadata": {},
   "outputs": [],
   "source": [
    "def Calculate(m,n):\n",
    "    sums=0\n",
    "    for i in range(m,n+1):\n",
    "        \n",
    "        if i%3==0 and i%5==0:\n",
    "            sums+=i\n",
    "            \n",
    "    return sums"
   ]
  },
  {
   "cell_type": "code",
   "execution_count": 2,
   "metadata": {},
   "outputs": [
    {
     "data": {
      "text/plain": [
       "90"
      ]
     },
     "execution_count": 2,
     "metadata": {},
     "output_type": "execute_result"
    }
   ],
   "source": [
    "Calculate(12,50)"
   ]
  },
  {
   "cell_type": "code",
   "execution_count": null,
   "metadata": {},
   "outputs": [],
   "source": []
  }
 ],
 "metadata": {
  "kernelspec": {
   "display_name": "Python 3",
   "language": "python",
   "name": "python3"
  },
  "language_info": {
   "codemirror_mode": {
    "name": "ipython",
    "version": 3
   },
   "file_extension": ".py",
   "mimetype": "text/x-python",
   "name": "python",
   "nbconvert_exporter": "python",
   "pygments_lexer": "ipython3",
   "version": "3.7.4"
  }
 },
 "nbformat": 4,
 "nbformat_minor": 2
}
