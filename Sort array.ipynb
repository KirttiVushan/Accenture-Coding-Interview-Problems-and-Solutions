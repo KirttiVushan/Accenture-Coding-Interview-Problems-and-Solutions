{
 "cells": [
  {
   "cell_type": "markdown",
   "metadata": {},
   "source": [
    "You are required to input the size of the matrix then the elements of matrix, then you have to divide the main matrix in two sub matrices (even and odd) in such a way that element at 0 index will be considered as even and element at 1st index will be considered as odd and so on. then you have sort the even and odd matrices in ascending order then print the sum of second largest number from both the matrices\n",
    "\n",
    "Example\n",
    "\n",
    "enter the size of array : 5\n",
    "enter element at 0 index : 3\n",
    "enter element at 1 index : 4\n",
    "enter element at 2 index : 1\n",
    "enter element at 3 index : 7\n",
    "enter element at 4 index : 9\n",
    "Sorted even array : 1 3 9\n",
    "Sorted odd array : 4 7\n",
    "\n",
    "10"
   ]
  },
  {
   "cell_type": "code",
   "execution_count": 10,
   "metadata": {},
   "outputs": [
    {
     "name": "stdout",
     "output_type": "stream",
     "text": [
      "enter size of matrix :5\n",
      "enter element at 0 index3\n",
      "enter element at 1 index4\n",
      "enter element at 2 index1\n",
      "enter element at 3 index7\n",
      "enter element at 4 index9\n",
      "even_arr [1, 3, 9]\n",
      "odd_arr [4, 7]\n"
     ]
    },
    {
     "data": {
      "text/plain": [
       "7"
      ]
     },
     "execution_count": 10,
     "metadata": {},
     "output_type": "execute_result"
    }
   ],
   "source": [
    "arr=[]\n",
    "size_of_matrix=int(input(f\"enter size of matrix :\"))\n",
    "\n",
    "for i in range(0,size_of_matrix):\n",
    "    \n",
    "    item=int(input(f\"enter element at {i} index :\"))\n",
    "    arr.append(item)\n",
    "sorter(arr)"
   ]
  },
  {
   "cell_type": "code",
   "execution_count": 9,
   "metadata": {},
   "outputs": [],
   "source": [
    "def sorter(array):\n",
    "    \n",
    "    mid=len(array)//2\n",
    "    even_arr=[]\n",
    "    odd_arr=[]\n",
    "    \n",
    "    for i in array[0::2]:\n",
    "        even_arr.append(i)\n",
    "            \n",
    "    for i in array[1::2]:\n",
    "        odd_arr.append(i)\n",
    "            \n",
    "    even_arr=sorted(even_arr)\n",
    "    odd_arr=sorted(odd_arr)\n",
    "    \n",
    "    print(\"even_arr\",even_arr)\n",
    "    print(\"odd_arr\",odd_arr)\n",
    "    \n",
    "    return even_arr[len(even_arr)-2] + odd_arr[len(odd_arr)-2]"
   ]
  },
  {
   "cell_type": "code",
   "execution_count": 3,
   "metadata": {},
   "outputs": [
    {
     "name": "stdout",
     "output_type": "stream",
     "text": [
      "2\n",
      "4\n"
     ]
    }
   ],
   "source": [
    "arr=[1,2,3,4,5]\n",
    "for i in arr:\n",
    "    if i%2==0:\n",
    "        print(i)"
   ]
  },
  {
   "cell_type": "code",
   "execution_count": 8,
   "metadata": {},
   "outputs": [
    {
     "name": "stdout",
     "output_type": "stream",
     "text": [
      "Enter the size of the array:5\n",
      "Enter Element at 0 index:3\n",
      "Enter Element at 1 index:4\n",
      "Enter Element at 2 index:1\n",
      "Enter Element at 3 index:7\n",
      "Enter Element at 4 index:9\n",
      "Sorted Even Array: [1, 3, 9]\n",
      "Sorted Odd Array: [4, 7]\n",
      "10\n"
     ]
    }
   ],
   "source": [
    "array = []\n",
    "evenArr = []\n",
    "oddArr = []\n",
    "n = int(input(\"Enter the size of the array:\"))\n",
    "for i in range(0,n):\n",
    "    number = int(input(\"Enter Element at {} index:\".format(i)))\n",
    "    array.append(number)\n",
    "    if i % 2 == 0:\n",
    "        evenArr.append(array[i])\n",
    "    else:\n",
    "        oddArr.append(array[i])\n",
    "\n",
    "evenArr = sorted(evenArr)\n",
    "print(\"Sorted Even Array:\", evenArr[0:len(evenArr)])\n",
    "oddArr = sorted(oddArr)\n",
    "print(\"Sorted Odd Array:\", oddArr[0:len(oddArr)])\n",
    "print(evenArr[1] + oddArr[1])"
   ]
  },
  {
   "cell_type": "code",
   "execution_count": null,
   "metadata": {},
   "outputs": [],
   "source": []
  }
 ],
 "metadata": {
  "kernelspec": {
   "display_name": "Python 3",
   "language": "python",
   "name": "python3"
  },
  "language_info": {
   "codemirror_mode": {
    "name": "ipython",
    "version": 3
   },
   "file_extension": ".py",
   "mimetype": "text/x-python",
   "name": "python",
   "nbconvert_exporter": "python",
   "pygments_lexer": "ipython3",
   "version": "3.7.4"
  }
 },
 "nbformat": 4,
 "nbformat_minor": 2
}
