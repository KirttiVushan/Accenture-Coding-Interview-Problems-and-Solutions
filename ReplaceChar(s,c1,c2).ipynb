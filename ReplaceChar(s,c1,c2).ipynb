{
 "cells": [
  {
   "cell_type": "markdown",
   "metadata": {},
   "source": [
    "You are given a function,\n",
    "\n",
    "Void *ReplaceCharacter(Char str[], int n, char ch1, char ch2);\n",
    "\n",
    "The function accepts a string  ‘ str’ of length n and two characters ‘ch1’ and ‘ch2’ as its arguments . Implement the function to modify and return the string ‘ str’ in such a way that all occurrences of ‘ch1’ in original string are replaced by ‘ch2’ and all occurrences of ‘ch2’  in original string are replaced by ‘ch1’.\n",
    "\n",
    "Assumption: String Contains only lower-case alphabetical letters.\n",
    "\n",
    "Note:\n",
    "\n",
    "Return null if string is null.\n",
    "If both characters are not present in string or both of them are same , then return the string unchanged.\n",
    "Example:\n",
    "\n",
    "Input:\n",
    "Str: apples\n",
    "ch1:a\n",
    "ch2:p\n",
    "Output:\n",
    "Paales\n",
    "Explanation:\n",
    "\n",
    "‘A’ in original string is replaced with ‘p’ and ‘p’ in original string is replaced with ‘a’, thus output is paales."
   ]
  },
  {
   "cell_type": "code",
   "execution_count": null,
   "metadata": {},
   "outputs": [],
   "source": []
  },
  {
   "cell_type": "code",
   "execution_count": 7,
   "metadata": {},
   "outputs": [],
   "source": [
    "def replaceChar(s,c1,c2):\n",
    "    \n",
    "    if c1==c2:\n",
    "        return s\n",
    "    \n",
    "    result=\"\"\n",
    "    result = s.replace(c1, '*')\n",
    "    print(result)\n",
    "    result=result.replace(c2, c1)\n",
    "    print(result)\n",
    "    result=result.replace('*', c2)\n",
    "    return result\n",
    "            \n",
    "    "
   ]
  },
  {
   "cell_type": "code",
   "execution_count": 8,
   "metadata": {},
   "outputs": [
    {
     "name": "stdout",
     "output_type": "stream",
     "text": [
      "*pples\n",
      "*aales\n"
     ]
    },
    {
     "data": {
      "text/plain": [
       "'paales'"
      ]
     },
     "execution_count": 8,
     "metadata": {},
     "output_type": "execute_result"
    }
   ],
   "source": [
    "replaceChar('apples','a','p')"
   ]
  },
  {
   "cell_type": "code",
   "execution_count": null,
   "metadata": {},
   "outputs": [],
   "source": []
  }
 ],
 "metadata": {
  "kernelspec": {
   "display_name": "Python 3",
   "language": "python",
   "name": "python3"
  },
  "language_info": {
   "codemirror_mode": {
    "name": "ipython",
    "version": 3
   },
   "file_extension": ".py",
   "mimetype": "text/x-python",
   "name": "python",
   "nbconvert_exporter": "python",
   "pygments_lexer": "ipython3",
   "version": "3.7.4"
  }
 },
 "nbformat": 4,
 "nbformat_minor": 2
}
